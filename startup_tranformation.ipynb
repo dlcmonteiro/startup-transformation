{
 "cells": [
  {
   "cell_type": "markdown",
   "id": "aa24f9ae",
   "metadata": {},
   "source": [
    "# Startup Transformation\n",
    "\n",
    "### Análise dos dados de uma startup a fim de obter-se as seguintes respostas:\n",
    "\n",
    "* A empresa está em boa saúde financeira?\n",
    "* A empresa precisa demitir algum funcionário?\n",
    "* A empresa deve permitir que os funcionários trabalhem em casa permanentemente?"
   ]
  },
  {
   "cell_type": "code",
   "execution_count": 1,
   "id": "e00bb998",
   "metadata": {},
   "outputs": [],
   "source": [
    "# Importa as bibliotecas\n",
    "\n",
    "from sklearn import preprocessing\n",
    "import matplotlib.pyplot as plt\n",
    "import pandas as pd\n",
    "import numpy as np\n",
    "import seaborn as sns"
   ]
  },
  {
   "cell_type": "code",
   "execution_count": 3,
   "id": "a302b4a1",
   "metadata": {},
   "outputs": [
    {
     "data": {
      "text/plain": [
       "(   Month  Revenue  Expenses\n",
       " 0      1  1420000    510000\n",
       " 1      2  1200000    532000\n",
       " 2      3  1050000    551000\n",
       " 3      4   920000    612000\n",
       " 4      5   807000    628000,\n",
       "        Expense  Proportion\n",
       " 0     Salaries        0.62\n",
       " 1  Advertising        0.15\n",
       " 2  Office Rent        0.15\n",
       " 3    Equipment        0.03\n",
       " 4    Utilities        0.03,\n",
       "                 Name  Salary  Productivity  Commute Time\n",
       " 0     Mason Pender     87902         29.91         16.79\n",
       " 1          Mia Rew     95672         49.91         44.48\n",
       " 2   Jalisa Kroenke    177864         78.00         19.40\n",
       " 3  Krystal Homeyer    186643         24.36         42.06\n",
       " 4    Kiana Wishart    167148          4.08         25.58)"
      ]
     },
     "execution_count": 3,
     "metadata": {},
     "output_type": "execute_result"
    }
   ],
   "source": [
    "# Carrega os dados a serem analisados\n",
    "\n",
    "financial_data = pd.read_csv('financial_data.csv')\n",
    "expense_overview = pd.read_csv('expenses.csv')\n",
    "employees = pd.read_csv('employees.csv', encoding='unicode_escape')"
   ]
  },
  {
   "cell_type": "markdown",
   "id": "133e00a4",
   "metadata": {},
   "source": [
    "#### Análise dos dados financeiros"
   ]
  },
  {
   "cell_type": "code",
   "execution_count": 8,
   "id": "83772605",
   "metadata": {},
   "outputs": [
    {
     "data": {
      "text/html": [
       "<div>\n",
       "<style scoped>\n",
       "    .dataframe tbody tr th:only-of-type {\n",
       "        vertical-align: middle;\n",
       "    }\n",
       "\n",
       "    .dataframe tbody tr th {\n",
       "        vertical-align: top;\n",
       "    }\n",
       "\n",
       "    .dataframe thead th {\n",
       "        text-align: right;\n",
       "    }\n",
       "</style>\n",
       "<table border=\"1\" class=\"dataframe\">\n",
       "  <thead>\n",
       "    <tr style=\"text-align: right;\">\n",
       "      <th></th>\n",
       "      <th>Month</th>\n",
       "      <th>Revenue</th>\n",
       "      <th>Expenses</th>\n",
       "    </tr>\n",
       "  </thead>\n",
       "  <tbody>\n",
       "    <tr>\n",
       "      <th>0</th>\n",
       "      <td>1</td>\n",
       "      <td>1420000</td>\n",
       "      <td>510000</td>\n",
       "    </tr>\n",
       "    <tr>\n",
       "      <th>1</th>\n",
       "      <td>2</td>\n",
       "      <td>1200000</td>\n",
       "      <td>532000</td>\n",
       "    </tr>\n",
       "    <tr>\n",
       "      <th>2</th>\n",
       "      <td>3</td>\n",
       "      <td>1050000</td>\n",
       "      <td>551000</td>\n",
       "    </tr>\n",
       "    <tr>\n",
       "      <th>3</th>\n",
       "      <td>4</td>\n",
       "      <td>920000</td>\n",
       "      <td>612000</td>\n",
       "    </tr>\n",
       "    <tr>\n",
       "      <th>4</th>\n",
       "      <td>5</td>\n",
       "      <td>807000</td>\n",
       "      <td>628000</td>\n",
       "    </tr>\n",
       "  </tbody>\n",
       "</table>\n",
       "</div>"
      ],
      "text/plain": [
       "   Month  Revenue  Expenses\n",
       "0      1  1420000    510000\n",
       "1      2  1200000    532000\n",
       "2      3  1050000    551000\n",
       "3      4   920000    612000\n",
       "4      5   807000    628000"
      ]
     },
     "execution_count": 8,
     "metadata": {},
     "output_type": "execute_result"
    }
   ],
   "source": [
    "financial_data.head()"
   ]
  },
  {
   "cell_type": "code",
   "execution_count": 9,
   "id": "fcaec4da",
   "metadata": {},
   "outputs": [],
   "source": [
    "# Categorização dos dados em meses, receita e despesas\n",
    "\n",
    "month = financial_data['Month']\n",
    "revenue = financial_data['Revenue']\n",
    "expenses = financial_data['Expenses']"
   ]
  },
  {
   "cell_type": "code",
   "execution_count": 10,
   "id": "8d0a7ac6",
   "metadata": {},
   "outputs": [
    {
     "data": {
      "image/png": "[encoded data removed]",
      "text/plain": [
       "<Figure size 432x288 with 1 Axes>"
      ]
     },
     "metadata": {
      "needs_background": "light"
     },
     "output_type": "display_data"
    }
   ],
   "source": [
    "# Plota a relação entre mês e receita\n",
    "\n",
    "plt.plot(month, revenue)\n",
    "plt.xlabel('Mês')\n",
    "plt.ylabel('Valor ($)')\n",
    "plt.title('Receita')\n",
    "plt.show()"
   ]
  },
  {
   "cell_type": "code",
   "execution_count": 11,
   "id": "1ea022ab",
   "metadata": {},
   "outputs": [
    {
     "data": {
      "image/png": "[encoded data removed]",
      "text/plain": [
       "<Figure size 432x288 with 1 Axes>"
      ]
     },
     "metadata": {
      "needs_background": "light"
     },
     "output_type": "display_data"
    }
   ],
   "source": [
    "# Plota a relação entre mês e despesas\n",
    "\n",
    "#plt.clf()\n",
    "plt.plot(month, expenses)\n",
    "plt.xlabel('Mês')\n",
    "plt.ylabel('Valor ($)')\n",
    "plt.title('Despesas')\n",
    "plt.show()"
   ]
  },
  {
   "cell_type": "markdown",
   "id": "3b99adc4",
   "metadata": {},
   "source": [
    "#### Análise dos dados de despesas"
   ]
  },
  {
   "cell_type": "code",
   "execution_count": 12,
   "id": "b85e47e6",
   "metadata": {},
   "outputs": [
    {
     "data": {
      "text/html": [
       "<div>\n",
       "<style scoped>\n",
       "    .dataframe tbody tr th:only-of-type {\n",
       "        vertical-align: middle;\n",
       "    }\n",
       "\n",
       "    .dataframe tbody tr th {\n",
       "        vertical-align: top;\n",
       "    }\n",
       "\n",
       "    .dataframe thead th {\n",
       "        text-align: right;\n",
       "    }\n",
       "</style>\n",
       "<table border=\"1\" class=\"dataframe\">\n",
       "  <thead>\n",
       "    <tr style=\"text-align: right;\">\n",
       "      <th></th>\n",
       "      <th>Expense</th>\n",
       "      <th>Proportion</th>\n",
       "    </tr>\n",
       "  </thead>\n",
       "  <tbody>\n",
       "    <tr>\n",
       "      <th>0</th>\n",
       "      <td>Salaries</td>\n",
       "      <td>0.62</td>\n",
       "    </tr>\n",
       "    <tr>\n",
       "      <th>1</th>\n",
       "      <td>Advertising</td>\n",
       "      <td>0.15</td>\n",
       "    </tr>\n",
       "    <tr>\n",
       "      <th>2</th>\n",
       "      <td>Office Rent</td>\n",
       "      <td>0.15</td>\n",
       "    </tr>\n",
       "    <tr>\n",
       "      <th>3</th>\n",
       "      <td>Equipment</td>\n",
       "      <td>0.03</td>\n",
       "    </tr>\n",
       "    <tr>\n",
       "      <th>4</th>\n",
       "      <td>Utilities</td>\n",
       "      <td>0.03</td>\n",
       "    </tr>\n",
       "  </tbody>\n",
       "</table>\n",
       "</div>"
      ],
      "text/plain": [
       "       Expense  Proportion\n",
       "0     Salaries        0.62\n",
       "1  Advertising        0.15\n",
       "2  Office Rent        0.15\n",
       "3    Equipment        0.03\n",
       "4    Utilities        0.03"
      ]
     },
     "execution_count": 12,
     "metadata": {},
     "output_type": "execute_result"
    }
   ],
   "source": [
    "expense_overview.head()"
   ]
  },
  {
   "cell_type": "code",
   "execution_count": 13,
   "id": "719f54e5",
   "metadata": {},
   "outputs": [],
   "source": [
    "# Categoriza as informações de despesas\n",
    "\n",
    "expense_categories = expense_overview['Expense']\n",
    "proportions = expense_overview['Proportion']"
   ]
  },
  {
   "cell_type": "code",
   "execution_count": 20,
   "id": "cf8e7277",
   "metadata": {},
   "outputs": [],
   "source": [
    "# Cria categorias de despesas\n",
    "\n",
    "expense_categories = ['Salários', 'Marketing', 'Aluguel de Escritório', 'Outros']\n",
    "proportions = [0.62, 0.15, 0.15, 0.08]"
   ]
  },
  {
   "cell_type": "code",
   "execution_count": 21,
   "id": "8214c555",
   "metadata": {},
   "outputs": [
    {
     "data": {
      "image/png": "[encoded data removed]",
      "text/plain": [
       "<Figure size 432x288 with 1 Axes>"
      ]
     },
     "metadata": {},
     "output_type": "display_data"
    }
   ],
   "source": [
    "# Plota um gráfico de setores com as informações\n",
    "\n",
    "#plt.clf()\n",
    "plt.pie(proportions, labels=expense_categories)\n",
    "plt.title('Categorias de Despesas')\n",
    "plt.axis('Equal')\n",
    "plt.tight_layout()\n",
    "plt.show()"
   ]
  },
  {
   "cell_type": "markdown",
   "id": "c469bb6b",
   "metadata": {},
   "source": [
    "#### Análise dos dados de funcionários"
   ]
  },
  {
   "cell_type": "code",
   "execution_count": 22,
   "id": "727ab3ca",
   "metadata": {},
   "outputs": [
    {
     "data": {
      "text/html": [
       "<div>\n",
       "<style scoped>\n",
       "    .dataframe tbody tr th:only-of-type {\n",
       "        vertical-align: middle;\n",
       "    }\n",
       "\n",
       "    .dataframe tbody tr th {\n",
       "        vertical-align: top;\n",
       "    }\n",
       "\n",
       "    .dataframe thead th {\n",
       "        text-align: right;\n",
       "    }\n",
       "</style>\n",
       "<table border=\"1\" class=\"dataframe\">\n",
       "  <thead>\n",
       "    <tr style=\"text-align: right;\">\n",
       "      <th></th>\n",
       "      <th>Name</th>\n",
       "      <th>Salary</th>\n",
       "      <th>Productivity</th>\n",
       "      <th>Commute Time</th>\n",
       "    </tr>\n",
       "  </thead>\n",
       "  <tbody>\n",
       "    <tr>\n",
       "      <th>0</th>\n",
       "      <td>Mason Pender</td>\n",
       "      <td>87902</td>\n",
       "      <td>29.91</td>\n",
       "      <td>16.79</td>\n",
       "    </tr>\n",
       "    <tr>\n",
       "      <th>1</th>\n",
       "      <td>Mia Rew</td>\n",
       "      <td>95672</td>\n",
       "      <td>49.91</td>\n",
       "      <td>44.48</td>\n",
       "    </tr>\n",
       "    <tr>\n",
       "      <th>2</th>\n",
       "      <td>Jalisa Kroenke</td>\n",
       "      <td>177864</td>\n",
       "      <td>78.00</td>\n",
       "      <td>19.40</td>\n",
       "    </tr>\n",
       "    <tr>\n",
       "      <th>3</th>\n",
       "      <td>Krystal Homeyer</td>\n",
       "      <td>186643</td>\n",
       "      <td>24.36</td>\n",
       "      <td>42.06</td>\n",
       "    </tr>\n",
       "    <tr>\n",
       "      <th>4</th>\n",
       "      <td>Kiana Wishart</td>\n",
       "      <td>167148</td>\n",
       "      <td>4.08</td>\n",
       "      <td>25.58</td>\n",
       "    </tr>\n",
       "  </tbody>\n",
       "</table>\n",
       "</div>"
      ],
      "text/plain": [
       "                Name  Salary  Productivity  Commute Time\n",
       "0     Mason Pender     87902         29.91         16.79\n",
       "1          Mia Rew     95672         49.91         44.48\n",
       "2   Jalisa Kroenke    177864         78.00         19.40\n",
       "3  Krystal Homeyer    186643         24.36         42.06\n",
       "4    Kiana Wishart    167148          4.08         25.58"
      ]
     },
     "execution_count": 22,
     "metadata": {},
     "output_type": "execute_result"
    }
   ],
   "source": [
    "employees.head()"
   ]
  },
  {
   "cell_type": "code",
   "execution_count": 24,
   "id": "9652b794",
   "metadata": {},
   "outputs": [],
   "source": [
    "# Ordena os funcionários por produtividade em ordem ascendente\n",
    "\n",
    "sorted_productivity = employees.sort_values(by=['Productivity'])"
   ]
  },
  {
   "cell_type": "code",
   "execution_count": 25,
   "id": "ee5cc3d0",
   "metadata": {},
   "outputs": [
    {
     "data": {
      "text/html": [
       "<div>\n",
       "<style scoped>\n",
       "    .dataframe tbody tr th:only-of-type {\n",
       "        vertical-align: middle;\n",
       "    }\n",
       "\n",
       "    .dataframe tbody tr th {\n",
       "        vertical-align: top;\n",
       "    }\n",
       "\n",
       "    .dataframe thead th {\n",
       "        text-align: right;\n",
       "    }\n",
       "</style>\n",
       "<table border=\"1\" class=\"dataframe\">\n",
       "  <thead>\n",
       "    <tr style=\"text-align: right;\">\n",
       "      <th></th>\n",
       "      <th>Name</th>\n",
       "      <th>Salary</th>\n",
       "      <th>Productivity</th>\n",
       "      <th>Commute Time</th>\n",
       "    </tr>\n",
       "  </thead>\n",
       "  <tbody>\n",
       "    <tr>\n",
       "      <th>259</th>\n",
       "      <td>Wilber Rye</td>\n",
       "      <td>111647</td>\n",
       "      <td>0.06</td>\n",
       "      <td>49.42</td>\n",
       "    </tr>\n",
       "    <tr>\n",
       "      <th>92</th>\n",
       "      <td>Fredric Gandee</td>\n",
       "      <td>154469</td>\n",
       "      <td>0.24</td>\n",
       "      <td>22.48</td>\n",
       "    </tr>\n",
       "    <tr>\n",
       "      <th>252</th>\n",
       "      <td>Johnson Fordham</td>\n",
       "      <td>168684</td>\n",
       "      <td>1.46</td>\n",
       "      <td>22.39</td>\n",
       "    </tr>\n",
       "    <tr>\n",
       "      <th>178</th>\n",
       "      <td>Lilia Lemoine</td>\n",
       "      <td>167579</td>\n",
       "      <td>1.67</td>\n",
       "      <td>27.36</td>\n",
       "    </tr>\n",
       "    <tr>\n",
       "      <th>162</th>\n",
       "      <td>Hilma Laughton</td>\n",
       "      <td>85506</td>\n",
       "      <td>1.79</td>\n",
       "      <td>36.41</td>\n",
       "    </tr>\n",
       "    <tr>\n",
       "      <th>...</th>\n",
       "      <td>...</td>\n",
       "      <td>...</td>\n",
       "      <td>...</td>\n",
       "      <td>...</td>\n",
       "    </tr>\n",
       "    <tr>\n",
       "      <th>43</th>\n",
       "      <td>Bernardo Klingenberg</td>\n",
       "      <td>55464</td>\n",
       "      <td>34.52</td>\n",
       "      <td>32.27</td>\n",
       "    </tr>\n",
       "    <tr>\n",
       "      <th>186</th>\n",
       "      <td>Ashleigh Istre</td>\n",
       "      <td>178627</td>\n",
       "      <td>34.70</td>\n",
       "      <td>38.67</td>\n",
       "    </tr>\n",
       "    <tr>\n",
       "      <th>288</th>\n",
       "      <td>Penni Kimbrough</td>\n",
       "      <td>142680</td>\n",
       "      <td>35.21</td>\n",
       "      <td>49.64</td>\n",
       "    </tr>\n",
       "    <tr>\n",
       "      <th>269</th>\n",
       "      <td>Margot Mackenzie</td>\n",
       "      <td>114302</td>\n",
       "      <td>35.79</td>\n",
       "      <td>19.87</td>\n",
       "    </tr>\n",
       "    <tr>\n",
       "      <th>218</th>\n",
       "      <td>Quinn Frampton</td>\n",
       "      <td>44000</td>\n",
       "      <td>36.36</td>\n",
       "      <td>34.12</td>\n",
       "    </tr>\n",
       "  </tbody>\n",
       "</table>\n",
       "<p>100 rows × 4 columns</p>\n",
       "</div>"
      ],
      "text/plain": [
       "                       Name  Salary  Productivity  Commute Time\n",
       "259            Wilber Rye    111647          0.06         49.42\n",
       "92         Fredric Gandee    154469          0.24         22.48\n",
       "252       Johnson Fordham    168684          1.46         22.39\n",
       "178         Lilia Lemoine    167579          1.67         27.36\n",
       "162        Hilma Laughton     85506          1.79         36.41\n",
       "..                      ...     ...           ...           ...\n",
       "43   Bernardo Klingenberg     55464         34.52         32.27\n",
       "186        Ashleigh Istre    178627         34.70         38.67\n",
       "288       Penni Kimbrough    142680         35.21         49.64\n",
       "269      Margot Mackenzie    114302         35.79         19.87\n",
       "218        Quinn Frampton     44000         36.36         34.12\n",
       "\n",
       "[100 rows x 4 columns]"
      ]
     },
     "execution_count": 25,
     "metadata": {},
     "output_type": "execute_result"
    }
   ],
   "source": [
    "# Encontra e armazena os 100 funcionários menos produtivos que possam ser cortados do quadro de colaboradores\n",
    "\n",
    "employees_cut = sorted_productivity.head(100)\n",
    "employees_cut"
   ]
  },
  {
   "cell_type": "code",
   "execution_count": 26,
   "id": "29ccc905",
   "metadata": {},
   "outputs": [
    {
     "data": {
      "text/plain": [
       "count    300.000000\n",
       "mean      33.441700\n",
       "std       16.128369\n",
       "min        3.220000\n",
       "25%       21.667500\n",
       "50%       31.060000\n",
       "75%       42.190000\n",
       "max      101.780000\n",
       "Name: Commute Time, dtype: float64"
      ]
     },
     "execution_count": 26,
     "metadata": {},
     "output_type": "execute_result"
    }
   ],
   "source": [
    "# Analisa o tempo de deslocamento dos funcionários\n",
    "\n",
    "commute_times = employees['Commute Time']\n",
    "commute_times.describe()"
   ]
  },
  {
   "cell_type": "code",
   "execution_count": 27,
   "id": "4d5ea4db",
   "metadata": {},
   "outputs": [],
   "source": [
    "# Aplica uma transformação logarítimica aos dados de tempo de deslocamento para normalizar o histograma\n",
    "\n",
    "commute_times_log = np.log(commute_times)"
   ]
  },
  {
   "cell_type": "code",
   "execution_count": 28,
   "id": "3683f81e",
   "metadata": {
    "scrolled": true
   },
   "outputs": [
    {
     "data": {
      "image/png": "[encoded data removed]",
      "text/plain": [
       "<Figure size 432x288 with 1 Axes>"
      ]
     },
     "metadata": {
      "needs_background": "light"
     },
     "output_type": "display_data"
    }
   ],
   "source": [
    "# Plota o histograma dos tempos de deslocamento\n",
    "\n",
    "#plt.clf()\n",
    "plt.hist(commute_times_log)\n",
    "plt.show()"
   ]
  },
  {
   "cell_type": "code",
   "execution_count": null,
   "id": "cb7a8b4d",
   "metadata": {},
   "outputs": [],
   "source": []
  }
 ],
 "metadata": {
  "kernelspec": {
   "display_name": "Python 3 (ipykernel)",
   "language": "python",
   "name": "python3"
  },
  "language_info": {
   "codemirror_mode": {
    "name": "ipython",
    "version": 3
   },
   "file_extension": ".py",
   "mimetype": "text/x-python",
   "name": "python",
   "nbconvert_exporter": "python",
   "pygments_lexer": "ipython3",
   "version": "3.9.12"
  }
 },
 "nbformat": 4,
 "nbformat_minor": 5
}
